{
 "metadata": {
  "language_info": {
   "codemirror_mode": {
    "name": "ipython",
    "version": 3
   },
   "file_extension": ".py",
   "mimetype": "text/x-python",
   "name": "python",
   "nbconvert_exporter": "python",
   "pygments_lexer": "ipython3",
   "version": "3.8.1"
  },
  "orig_nbformat": 2,
  "kernelspec": {
   "name": "python381jvsc74a57bd0a84e52f0f6cfe411dfb9f2e1bdb5ba7fb2e3367b4ea4250ecd02b0859f809ad3",
   "display_name": "Python 3.8.1 64-bit"
  },
  "metadata": {
   "interpreter": {
    "hash": "a84e52f0f6cfe411dfb9f2e1bdb5ba7fb2e3367b4ea4250ecd02b0859f809ad3"
   }
  }
 },
 "nbformat": 4,
 "nbformat_minor": 2,
 "cells": [
  {
   "cell_type": "code",
   "execution_count": 5,
   "metadata": {},
   "outputs": [
    {
     "output_type": "stream",
     "name": "stdout",
     "text": [
      "15 eh o maior\n"
     ]
    }
   ],
   "source": [
    "x = input()\n",
    "x = int(x)\n",
    "y = input()\n",
    "y = int(y)\n",
    "z = input()\n",
    "z = int(z)\n",
    "\n",
    "maior = (x + y + abs(x-y))/2\n",
    "\n",
    "maior = (maior + z + abs(maior - z))/2\n",
    "maior = int(maior)\n",
    "print(str(maior) + ' eh o maior')"
   ]
  },
  {
   "cell_type": "code",
   "execution_count": 6,
   "metadata": {},
   "outputs": [
    {
     "output_type": "stream",
     "name": "stdout",
     "text": [
      "X = 8\n"
     ]
    }
   ],
   "source": [
    "a = int(input())\n",
    "b = int(input())\n",
    "\n",
    "x = a+b\n",
    "\n",
    "print('X = '+str(x))"
   ]
  },
  {
   "cell_type": "code",
   "execution_count": 13,
   "metadata": {},
   "outputs": [
    {
     "output_type": "stream",
     "name": "stdout",
     "text": [
      "A=12.5664\n"
     ]
    }
   ],
   "source": [
    "n = 3.14159\n",
    "\n",
    "raio = float(input())\n",
    "\n",
    "area = n * (raio ** 2)\n",
    "\n",
    "print('A=%.4f' % area)"
   ]
  },
  {
   "cell_type": "code",
   "execution_count": 16,
   "metadata": {},
   "outputs": [
    {
     "output_type": "stream",
     "name": "stdout",
     "text": [
      "5.952 km/l\n"
     ]
    }
   ],
   "source": [
    "x = int(input())\n",
    "y = float(input())\n",
    "\n",
    "gasto = x/y\n",
    "\n",
    "print('%.3f km/l' % gasto)"
   ]
  },
  {
   "cell_type": "code",
   "execution_count": 24,
   "metadata": {},
   "outputs": [
    {
     "output_type": "stream",
     "name": "stdout",
     "text": [
      "16.1484\n"
     ]
    }
   ],
   "source": [
    "import math\n",
    "\n",
    "p1 = []\n",
    "p2 = []\n",
    "for i in range(1,3):\n",
    "    p1.append(float(input()))\n",
    "\n",
    "for i in range(1,3):\n",
    "    p2.append(float(input()))\n",
    "\n",
    "distancia = 0.0\n",
    "\n",
    "for i in range(0,2):\n",
    "    distancia += (p2[i]-p1[i]) ** 2\n",
    "\n",
    "distancia = math.sqrt(distancia)\n",
    "\n",
    "print('%.4f' % distancia)"
   ]
  },
  {
   "cell_type": "code",
   "execution_count": 48,
   "metadata": {},
   "outputs": [
    {
     "output_type": "stream",
     "name": "stdout",
     "text": [
      "[1.0, 7.0]\n[5.0, 9.0]\n4.4721\n"
     ]
    }
   ],
   "source": [
    "import math\n",
    "\n",
    "pi = input()\n",
    "pj = input()\n",
    "p1 = []\n",
    "p2 = []\n",
    "\n",
    "for i in range(0,len(pi)):\n",
    "    if pi[i] == ' ':\n",
    "         index = i\n",
    "         p1.append(float(pi[0:i]))\n",
    "         p1.append(float(pi[i:len(pi)]))\n",
    "\n",
    "for i in range(0,len(pj)):\n",
    "    if pj[i] == ' ':\n",
    "         index = i\n",
    "         p2.append(float(pj[0:i]))\n",
    "         p2.append(float(pj[i:len(pj)]))\n",
    "distancia = 0\n",
    "for i in range(0,2):\n",
    "    distancia += ((p2[i] - p1[i])**2)\n",
    "\n",
    "distancia = math.sqrt(distancia)\n",
    "\n",
    "print(p1)\n",
    "print(p2)\n",
    "print('%.4f' % distancia)\n"
   ]
  },
  {
   "cell_type": "code",
   "execution_count": 50,
   "metadata": {},
   "outputs": [
    {
     "output_type": "stream",
     "name": "stdout",
     "text": [
      "100 minutos\n"
     ]
    }
   ],
   "source": [
    "distancia = int(input())\n",
    "\n",
    "tempo = distancia * 2\n",
    "\n",
    "print(str(tempo) + ' minutos')"
   ]
  },
  {
   "cell_type": "code",
   "execution_count": 65,
   "metadata": {},
   "outputs": [
    {
     "output_type": "stream",
     "name": "stdout",
     "text": [
      "122.833\n"
     ]
    }
   ],
   "source": [
    "hora = int(input())\n",
    "velocidade = int(input())\n",
    "\n",
    "km = velocidade * hora\n",
    "\n",
    "litros = km/12\n",
    "\n",
    "print('%.3f' % litros)"
   ]
  },
  {
   "cell_type": "code",
   "execution_count": 69,
   "metadata": {},
   "outputs": [
    {
     "output_type": "stream",
     "name": "stdout",
     "text": [
      "576\n5 nota(s) de R$ 100,00\n1 nota(s) de R$ 50,00\n1 nota(s) de R$ 20,00\n0 nota(s) de R$ 10,00\n1 nota(s) de R$ 5,00\n0 nota(s) de R$ 2,00\n1 nota(s) de R$ 1,00\n"
     ]
    }
   ],
   "source": [
    "x = int(input())\n",
    "\n",
    "notas = [100,50,20,10,5,2,1]\n",
    "print(x)\n",
    "for i in range(0,7):\n",
    "    y = int(x/notas[i])\n",
    "    print(str(y) + ' nota(s) de R$ '+ str(notas[i]) +',00')\n",
    "    x = x%notas[i]"
   ]
  },
  {
   "cell_type": "code",
   "execution_count": 82,
   "metadata": {},
   "outputs": [
    {
     "output_type": "stream",
     "name": "stdout",
     "text": [
      "277777:46:40\n"
     ]
    }
   ],
   "source": [
    "x = int(input())\n",
    "\n",
    "tempo = [3600,60,1]\n",
    "res = []\n",
    "for i in range(0,3):\n",
    "    h = int(x/tempo[i])\n",
    "    res.append(h)\n",
    "    x = x%tempo[i]\n",
    "\n",
    "print(str(res[0])+':'+str(res[1])+':'+str(res[2]))"
   ]
  },
  {
   "cell_type": "code",
   "execution_count": 80,
   "metadata": {},
   "outputs": [
    {
     "output_type": "stream",
     "name": "stdout",
     "text": [
      "0 ano(s)\n12 mes(es)\n4 dia(s)\n"
     ]
    }
   ],
   "source": [
    "x = int(input())\n",
    "\n",
    "ano = [365,30,1]\n",
    "res = []\n",
    "for i in range(0,3):\n",
    "    h = int(x/ano[i])\n",
    "    res.append(h)\n",
    "    x = x%ano[i]\n",
    "\n",
    "print(str(res[0]) + ' ano(s)')\n",
    "print(str(res[1]) + ' mes(es)')\n",
    "print(str(res[2]) + ' dia(s)')\n"
   ]
  },
  {
   "cell_type": "code",
   "execution_count": 86,
   "metadata": {},
   "outputs": [
    {
     "output_type": "stream",
     "name": "stdout",
     "text": [
      "1/7/8\n16:53:20\n"
     ]
    }
   ],
   "source": [
    "x = int(input())\n",
    "\n",
    "tempo = [31104000,2592000,86400,3600,60,1]\n",
    "\n",
    "res = []\n",
    "\n",
    "for i in range(0,6):\n",
    "    t = int(x/tempo[i])\n",
    "    res.append(t)\n",
    "    x = x%tempo[i]\n",
    "\n",
    "print(str(res[0])+'/'+str(res[1])+'/'+str(res[2]))\n",
    "print(str(res[3])+':'+str(res[4])+':'+str(res[5]))"
   ]
  },
  {
   "cell_type": "code",
   "execution_count": 121,
   "metadata": {},
   "outputs": [
    {
     "output_type": "stream",
     "name": "stdout",
     "text": [
      "NOTAS:\n5 nota(s) de R$ 100.00\n1 nota(s) de R$ 50.00\n1 nota(s) de R$ 20.00\n0 nota(s) de R$ 10.00\n1 nota(s) de R$ 5.00\n0 nota(s) de R$ 2.00\nMOEDAS:\n1 moeda(s) de R$ 1.00\n1 moeda(s) de R$ 0.50\n0 moeda(s) de R$ 0.25\n2 moeda(s) de R$ 0.10\n0 moeda(s) de R$ 0.05\n3 moeda(s) de R$ 0.01\n"
     ]
    }
   ],
   "source": [
    "x = float(input())\n",
    "\n",
    "if x>=0 and x<=1000000.00:\n",
    "    notas = [100.00,50.00,20.00,10.00,5.00,2.00,1.00,0.5,0.25,0.10,0.05,0.01]\n",
    "    r = []\n",
    "\n",
    "    for i in range(0,len(notas)):\n",
    "        y = int(x/notas[i])\n",
    "        r.append(y)\n",
    "        x = x%notas[i]\n",
    "\n",
    "    print('NOTAS:')\n",
    "    for i in range(0,6):\n",
    "        print(str(int(r[i])) + ' nota(s) de R$ %.2f' % notas[i])\n",
    "\n",
    "    print('MOEDAS:')\n",
    "    for i in range(6,12):\n",
    "        print(str(int(r[i])) + ' moeda(s) de R$ %.2f' % notas[i])\n",
    "\n",
    "    \n"
   ]
  },
  {
   "cell_type": "code",
   "execution_count": 125,
   "metadata": {},
   "outputs": [
    {
     "output_type": "stream",
     "name": "stdout",
     "text": [
      "Valores aceitos\n"
     ]
    }
   ],
   "source": [
    "\n",
    "\n",
    "if (b>c and d > a and c+d > a+b and c > 0 and d > 0 and a%2==0):\n",
    "    print('Valores aceitos')\n",
    "else:\n",
    "    print('Valores nao aceitos')"
   ]
  },
  {
   "cell_type": "code",
   "execution_count": 139,
   "metadata": {},
   "outputs": [
    {
     "output_type": "stream",
     "name": "stdout",
     "text": [
      "Valores aceitos\n"
     ]
    }
   ],
   "source": [
    "valor_lido = input()\n",
    "\n",
    "valores_int = [int(x) for x in valor_lido.split(\" \")]\n",
    "a = valores_int[0]\n",
    "b = valores_int[1]\n",
    "c = valores_int[2]\n",
    "d = valores_int[3]\n",
    "\n",
    "\n",
    "if (b>c and d > a and c+d > a+b and c > 0 and d > 0 and a%2==0):\n",
    "    print('Valores aceitos')\n",
    "else:\n",
    "    print('Valores nao aceitos')  "
   ]
  }
 ]
}